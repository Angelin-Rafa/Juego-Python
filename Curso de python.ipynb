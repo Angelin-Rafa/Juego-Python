{
 "cells": [
  {
   "cell_type": "code",
   "execution_count": 49,
   "metadata": {},
   "outputs": [],
   "source": [
    "# Qué es python: \n",
    "# Ciencia de datos, desarrollo de web, automatizacion, IA y machine Learning  y desarrollo de software\n",
    "# Archivs CSV, Renombrar archivos, convertir formatos de archivos, "
   ]
  },
  {
   "cell_type": "code",
   "execution_count": 50,
   "metadata": {},
   "outputs": [
    {
     "name": "stdout",
     "output_type": "stream",
     "text": [
      "True\n",
      "True\n"
     ]
    }
   ],
   "source": [
    "#operadores de comparación \n",
    "# == Nos va a servir para comparar igualdad \n",
    "# ! es la negación\n",
    "\n",
    "x=5\n",
    "y = 5\n",
    "print(x==y)\n",
    "\n",
    "# != nos sirve para comaparar diferencias\n",
    "\n",
    "x=4\n",
    "y = 5\n",
    "print(x!=y)\n",
    "\n"
   ]
  },
  {
   "cell_type": "code",
   "execution_count": 51,
   "metadata": {},
   "outputs": [
    {
     "name": "stdout",
     "output_type": "stream",
     "text": [
      "True\n",
      "True\n",
      "False\n"
     ]
    }
   ],
   "source": [
    "# OPERADOR LÓGICOS\n",
    "# and - nos va a devolver True si y solo si ambas afirmacciones son verdaderas\n",
    "# or - Nos va a devolver verdadero si alguna de las dos afirmaciones es verdadera\n",
    "# not - nos devolvera lo opuesto al valor que siga\n",
    "x = 5\n",
    "booleano = x > 3 and x < 10\n",
    "print(booleano)\n",
    "\n",
    "x = 5\n",
    "booleano = x > 3 or x < 10\n",
    "print(booleano)\n",
    "\n",
    "x = 5\n",
    "booleano = not x < 10\n",
    "print(booleano)\n",
    "\n"
   ]
  },
  {
   "cell_type": "code",
   "execution_count": 52,
   "metadata": {},
   "outputs": [
    {
     "name": "stdout",
     "output_type": "stream",
     "text": [
      "True\n",
      "False\n",
      "True\n"
     ]
    }
   ],
   "source": [
    "# OPERADORES DE IDENTIDAD\n",
    "# is \n",
    "# is not\n",
    "a = 5\n",
    "b = 5\n",
    "\n",
    "booleano = a is b\n",
    "print(booleano)\n",
    "\n",
    "a = \"esto es un texto\"\n",
    "b = \" esto es un texto \"\n",
    "\n",
    "booleano = a is b\n",
    "print(booleano)\n",
    "\n",
    "a = \"esto es un texto\"\n",
    "b = \" esto es un texto \"\n",
    "\n",
    "booleano = a is not b\n",
    "print(booleano)\n",
    "\n"
   ]
  },
  {
   "cell_type": "code",
   "execution_count": 53,
   "metadata": {},
   "outputs": [
    {
     "name": "stdout",
     "output_type": "stream",
     "text": [
      "False\n"
     ]
    }
   ],
   "source": [
    "# OPERADORES DE PERTENENCIA\n",
    "\n",
    "# in \n",
    "# not in \n",
    "\n",
    "texto = \"en este texto pondremos algunas tecnologias: Python, R, Django y TensorFlow\"\n",
    "\n",
    "print(\"Django\" not in texto)\n",
    "\n",
    "texto = \"en este texto pondremos algunas tecnologias: Python, R, Django y TensorFlow\"\n",
    "textominusculas = texto.lower()\n"
   ]
  },
  {
   "cell_type": "code",
   "execution_count": null,
   "metadata": {},
   "outputs": [],
   "source": [
    "# Estructura de control\n",
    "\n",
    "# es un bloque de codigo que permite controlar el flujo de ejecución de un programa.\n",
    "\n",
    "# Estructura de control Condicionales:\n",
    "# if i elif ii else\n",
    "# condicion ternaria If i Else \n",
    "\n",
    "# Estructura de control Bucle: \n",
    "# BUCLLE WHILE\n",
    "while condicion: \n",
    "    # codigo a ejecutar mientras la condición es verdadera \n",
    "    \n",
    "# BUCLE FOR\n",
    "for indice in range(cantdad)\n",
    "    # código a ejecutar en cada interación \n",
    "    \n",
    "# Manejo de excepciones: \n",
    "try:   \n",
    "    # Codigo que puede generar una excepción \n",
    "\n",
    "except TipoDeExcepcion as nombre_variable\n",
    "    # Codigo para manejar la excepción \n",
    "\n",
    "finally: \n",
    "    # codigo que siempre se ejuta, OPCIONAL\n",
    "    \n",
    "    \n",
    "# PALABRAS CLAVE PARA CONTROL DE FLUJO \n",
    "  # BREAK\n",
    "for i in range(5):\n",
    "    if i == 3:\n",
    "        break\n",
    "    print(i) # se espera: 0,1,2\n",
    "    \n",
    "  # CONTINUE\n",
    "  for i in range(5):\n",
    "    if i == 3:\n",
    "        continue\n",
    "    print(i) # se espera: 0,1,2,4\n",
    "    \n",
    "  # PASS\n",
    "  for i in range(5):\n",
    "    if i == 3:\n",
    "        pass\n",
    "    print(i) # se espera: 0,1,2,4,5\n",
    " \n",
    "\n",
    "\n",
    "\n",
    "\n"
   ]
  }
 ],
 "metadata": {
  "kernelspec": {
   "display_name": "Python 3",
   "language": "python",
   "name": "python3"
  },
  "language_info": {
   "codemirror_mode": {
    "name": "ipython",
    "version": 3
   },
   "file_extension": ".py",
   "mimetype": "text/x-python",
   "name": "python",
   "nbconvert_exporter": "python",
   "pygments_lexer": "ipython3",
   "version": "3.12.4"
  }
 },
 "nbformat": 4,
 "nbformat_minor": 2
}
